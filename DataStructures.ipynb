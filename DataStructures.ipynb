{
 "cells": [
  {
   "cell_type": "code",
   "execution_count": 5,
   "metadata": {},
   "outputs": [
    {
     "name": "stdout",
     "output_type": "stream",
     "text": [
      "23 Hot\n",
      "23 Cold\n"
     ]
    }
   ],
   "source": [
    "from itertools import permutations\n",
    "from collections import Counter\n",
    "\n",
    "class Name:\n",
    "    def weather(self, boston):\n",
    "        self.g = 23\n",
    "        print(self.g, boston)\n",
    "    \n",
    "    def climate(self, cali):\n",
    "        print(self.g, cali)\n",
    "\n",
    "if __name__ == \"__main__\":\n",
    "    obj = Name()\n",
    "    obj.weather('Hot')\n",
    "    obj.climate('Cold')"
   ]
  },
  {
   "cell_type": "code",
   "execution_count": null,
   "metadata": {},
   "outputs": [],
   "source": []
  }
 ],
 "metadata": {
  "kernelspec": {
   "display_name": "Python 3",
   "language": "python",
   "name": "python3"
  },
  "language_info": {
   "codemirror_mode": {
    "name": "ipython",
    "version": 3
   },
   "file_extension": ".py",
   "mimetype": "text/x-python",
   "name": "python",
   "nbconvert_exporter": "python",
   "pygments_lexer": "ipython3",
   "version": "3.7.6"
  }
 },
 "nbformat": 4,
 "nbformat_minor": 4
}
